{
 "cells": [
  {
   "cell_type": "markdown",
   "id": "2df16639-668a-4851-9db3-7cf9bacfe5b0",
   "metadata": {},
   "source": [
    "#2.1"
   ]
  },
  {
   "cell_type": "code",
   "execution_count": null,
   "id": "0374945b-cbd2-4df0-8fc1-1cecee2176f7",
   "metadata": {},
   "outputs": [],
   "source": [
    "#Did not get to see question, was having computer issues"
   ]
  },
  {
   "cell_type": "code",
   "execution_count": null,
   "id": "af908357-4e89-4763-aae9-7c993a79bf65",
   "metadata": {},
   "outputs": [],
   "source": [
    "#2.2"
   ]
  },
  {
   "cell_type": "code",
   "execution_count": 1,
   "id": "3818e558-5245-4b96-8df9-0efaacf89080",
   "metadata": {
    "tags": []
   },
   "outputs": [
    {
     "name": "stdout",
     "output_type": "stream",
     "text": [
      "2\n"
     ]
    }
   ],
   "source": [
    "list = [1, 2, 3]\n",
    "\n",
    "second = list[1]\n",
    "\n",
    "print(second)"
   ]
  },
  {
   "cell_type": "code",
   "execution_count": null,
   "id": "953dbe1f-dcdc-4877-a240-b2b4fa8ac165",
   "metadata": {},
   "outputs": [],
   "source": [
    "#2.3"
   ]
  },
  {
   "cell_type": "code",
   "execution_count": 2,
   "id": "5ec86e4d-8874-4b2a-a7f9-b687f43737a8",
   "metadata": {
    "tags": []
   },
   "outputs": [
    {
     "ename": "AttributeError",
     "evalue": "'tuple' object has no attribute 'append'",
     "output_type": "error",
     "traceback": [
      "\u001b[0;31m---------------------------------------------------------------------------\u001b[0m",
      "\u001b[0;31mAttributeError\u001b[0m                            Traceback (most recent call last)",
      "Cell \u001b[0;32mIn[2], line 3\u001b[0m\n\u001b[1;32m      1\u001b[0m \u001b[38;5;28mtuple\u001b[39m \u001b[38;5;241m=\u001b[39m (\u001b[38;5;241m1\u001b[39m, \u001b[38;5;241m2\u001b[39m, \u001b[38;5;241m3\u001b[39m)\n\u001b[0;32m----> 3\u001b[0m \u001b[38;5;28;43mtuple\u001b[39;49m\u001b[38;5;241;43m.\u001b[39;49m\u001b[43mappend\u001b[49m(\u001b[38;5;241m4\u001b[39m)\n",
      "\u001b[0;31mAttributeError\u001b[0m: 'tuple' object has no attribute 'append'"
     ]
    }
   ],
   "source": [
    "tuple = (1, 2, 3)\n",
    "\n",
    "tuple.append(4)"
   ]
  },
  {
   "cell_type": "code",
   "execution_count": null,
   "id": "cb83c156-07a3-41d4-bbc6-8672ed3ac922",
   "metadata": {},
   "outputs": [],
   "source": [
    "#2.4"
   ]
  },
  {
   "cell_type": "code",
   "execution_count": 3,
   "id": "6c98b6dd-45e0-4c72-9d82-0a22af3c950d",
   "metadata": {
    "tags": []
   },
   "outputs": [
    {
     "name": "stdout",
     "output_type": "stream",
     "text": [
      "True\n"
     ]
    }
   ],
   "source": [
    "scalar = \"hello\"\n",
    "\n",
    "this_set = {\"class\", \"hello\", \"World\"}\n",
    "\n",
    "in_set = scalar in this_set\n",
    "\n",
    "print(in_set)"
   ]
  },
  {
   "cell_type": "code",
   "execution_count": null,
   "id": "b254fc62-4e1a-4dca-81cf-c14f7267d8f8",
   "metadata": {},
   "outputs": [],
   "source": [
    "#2.5"
   ]
  },
  {
   "cell_type": "code",
   "execution_count": null,
   "id": "048351b7-668f-48c3-be9a-725a4943b4c0",
   "metadata": {},
   "outputs": [],
   "source": []
  },
  {
   "cell_type": "code",
   "execution_count": null,
   "id": "b17c5ad1-3e29-4482-9fb5-d9197381d724",
   "metadata": {},
   "outputs": [],
   "source": [
    "#2.6"
   ]
  },
  {
   "cell_type": "code",
   "execution_count": 4,
   "id": "aa79488f-c8ee-4665-a283-b0d8e60ea23b",
   "metadata": {
    "tags": []
   },
   "outputs": [
    {
     "name": "stdout",
     "output_type": "stream",
     "text": [
      "['brown', 'dogs', 'fox', 'jumped', 'lazy', 'over', 'quick', 'the']\n"
     ]
    }
   ],
   "source": [
    "string = \"The quick brown fox jumped over the lazy dogs.\"\n",
    "\n",
    "string1 = string.replace('.','')\n",
    "string2 = string1.lower()\n",
    "string3 = string2.split()\n",
    "set1 = set(string3)\n",
    "set2 = sorted(set1)\n",
    "\n",
    "print(set2)"
   ]
  },
  {
   "cell_type": "code",
   "execution_count": 5,
   "id": "213df3f3-f2e0-479a-80da-730eeaa2d971",
   "metadata": {
    "tags": []
   },
   "outputs": [
    {
     "data": {
      "text/plain": [
       "['brown', 'dogs', 'fox', 'jumped', 'lazy', 'over', 'quick', 'the', 'the']"
      ]
     },
     "execution_count": 5,
     "metadata": {},
     "output_type": "execute_result"
    }
   ],
   "source": [
    "sorted(string3)"
   ]
  },
  {
   "cell_type": "code",
   "execution_count": 6,
   "id": "ceffbeca-0caa-4a57-8875-829db46cc781",
   "metadata": {
    "tags": []
   },
   "outputs": [
    {
     "data": {
      "text/plain": [
       "['brown', 'dogs', 'fox', 'jumped', 'lazy', 'over', 'quick', 'the']"
      ]
     },
     "execution_count": 6,
     "metadata": {},
     "output_type": "execute_result"
    }
   ],
   "source": [
    "sorted(set(string.replace('.','').lower().split()))"
   ]
  },
  {
   "cell_type": "code",
   "execution_count": null,
   "id": "c3d65f0b-7126-4be6-bbf0-8635527a4bc6",
   "metadata": {},
   "outputs": [],
   "source": [
    "#2.7"
   ]
  },
  {
   "cell_type": "code",
   "execution_count": 10,
   "id": "9a7c110e-f90d-4e0c-9761-83a8bb934762",
   "metadata": {
    "tags": []
   },
   "outputs": [
    {
     "data": {
      "text/plain": [
       "False"
      ]
     },
     "execution_count": 10,
     "metadata": {},
     "output_type": "execute_result"
    }
   ],
   "source": [
    "list2 = string.replace('.','').lower().split()\n",
    "myset = set(list2)\n",
    "\n",
    "len(list2) == len(myset)"
   ]
  },
  {
   "cell_type": "code",
   "execution_count": 11,
   "id": "002a078b-57ae-41da-91ce-fdc00058c82a",
   "metadata": {
    "tags": []
   },
   "outputs": [
    {
     "data": {
      "text/plain": [
       "1"
      ]
     },
     "execution_count": 11,
     "metadata": {},
     "output_type": "execute_result"
    }
   ],
   "source": [
    "abs(len(list2) - len(myset))"
   ]
  },
  {
   "cell_type": "code",
   "execution_count": null,
   "id": "7797fb23-ce42-46e2-a5de-2021598ac8f1",
   "metadata": {},
   "outputs": [],
   "source": [
    "#2.8"
   ]
  },
  {
   "cell_type": "code",
   "execution_count": 12,
   "id": "476ed8d4-4627-42de-b43d-a5fbb00417ba",
   "metadata": {
    "tags": []
   },
   "outputs": [
    {
     "name": "stdout",
     "output_type": "stream",
     "text": [
      "epoch 1, mode TRAIN, loss 0.46\n"
     ]
    }
   ],
   "source": [
    "epoch = 1\n",
    "mode = \"TRAIN\"\n",
    "loss = 0.46\n",
    "\n",
    "print(f\"epoch {epoch}, mode {mode}, loss {loss}\")"
   ]
  },
  {
   "cell_type": "code",
   "execution_count": null,
   "id": "84ef317e-44e1-464c-869f-94eaaddcad28",
   "metadata": {},
   "outputs": [],
   "source": [
    "#2.9"
   ]
  },
  {
   "cell_type": "code",
   "execution_count": 13,
   "id": "cfad9300-b14f-49f8-a511-aae66cf601b1",
   "metadata": {
    "tags": []
   },
   "outputs": [
    {
     "data": {
      "text/plain": [
       "0.0"
      ]
     },
     "execution_count": 13,
     "metadata": {},
     "output_type": "execute_result"
    }
   ],
   "source": [
    "var1 = 1.5\n",
    "var2 = 20.5\n",
    "var3 = int(var1//var2)\n",
    "\n",
    "var1 // var2"
   ]
  },
  {
   "cell_type": "code",
   "execution_count": 15,
   "id": "3d6beda8-cb66-4f50-9739-75edc4bbb047",
   "metadata": {
    "tags": []
   },
   "outputs": [],
   "source": [
    "test = var3 < 0"
   ]
  },
  {
   "cell_type": "code",
   "execution_count": null,
   "id": "73e30002-463a-4881-be84-12f3d791cb2a",
   "metadata": {},
   "outputs": [],
   "source": [
    "#2.11"
   ]
  },
  {
   "cell_type": "code",
   "execution_count": 1,
   "id": "0661de7c-8489-4820-b213-11b91e1f52b1",
   "metadata": {
    "tags": []
   },
   "outputs": [
    {
     "name": "stdout",
     "output_type": "stream",
     "text": [
      "False\n"
     ]
    }
   ],
   "source": [
    "a = 0.15 + 0.15\n",
    "b = 0.1 + 0.2\n",
    "\n",
    "equal = a == b\n",
    "\n",
    "print(equal)"
   ]
  }
 ],
 "metadata": {
  "kernelspec": {
   "display_name": "Python 3 (ipykernel)",
   "language": "python",
   "name": "python3"
  },
  "language_info": {
   "codemirror_mode": {
    "name": "ipython",
    "version": 3
   },
   "file_extension": ".py",
   "mimetype": "text/x-python",
   "name": "python",
   "nbconvert_exporter": "python",
   "pygments_lexer": "ipython3",
   "version": "3.11.4"
  }
 },
 "nbformat": 4,
 "nbformat_minor": 5
}
